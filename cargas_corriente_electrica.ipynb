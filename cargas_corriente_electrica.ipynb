{
 "cells": [
  {
   "cell_type": "markdown",
   "metadata": {},
   "source": [
    "# Cargas y corriente eléctrica"
   ]
  },
  {
   "cell_type": "markdown",
   "metadata": {},
   "source": [
    "<p>Las baterías del Sejourner eran Rover Batteries de Lithium-Thionyl Chloride (Li-SOCl2), cuya finalidad era la de ayudar al mantenimiento eléctrico para realizar experimentos nocturnos y operaciones matutinas principalmente, y por otro lado proveer de energía para realizar comunicaciones Rover periódicas de control de estado.</p>\n",
    "<table>\n",
    "<tr>\n",
    "<td style=\"vertical-align:middle; text-align:center;\">![](https://mars.nasa.gov/MPF/roverpwr/batt.jpg)<br /> <i>Fuente: https://mars.nasa.gov/MPF/roverpwr/power.html</i></td>\n",
    "<td style=\"vertical-align:middle; text-align:center;\"><b>Imagen de la baterías</b></td>\n",
    "</tr>\n",
    "<tr>\n",
    "<td style=\"vertical-align:middle; text-align:center;\"><b>Factores que determinan la selección de baterías Li-ion para MER</b></td>\n",
    "<td style=\"vertical-align:middle; text-align:center;\">![](BatteryFacts.PNG)<br /> <i>Fuente: http://citeseerx.ist.psu.edu/viewdoc/download?doi=10.1.1.606.8642&rep=rep1&type=pdf</i></td>\n",
    "</tr>\n",
    "<tr>\n",
    "<td style=\"vertical-align:middle; text-align:center;\">![](BatteryTech.PNG)<br /> <i>Fuente: https://mars.nasa.gov/MPF/roverpwr/power.html</i></td>\n",
    "<td style=\"vertical-align:middle; text-align:center;\"><b>Información Técnica</b></td>\n",
    "</tr>\n",
    "</table>"
   ]
  },
  {
   "cell_type": "markdown",
   "metadata": {},
   "source": [
    "<p>El la siguiente tabla se recopila la información necesaria para la realización de los cálculos: </p>\n",
    "<table>\n",
    "<tr>\n",
    "<th style=\"vertical-align:miidle; text-align:center;\">NOMBRE</th>\n",
    "<th style=\"vertical-align:miidle; text-align:center;\">VALOR</th>\n",
    "</tr>\n",
    "<tr>\n",
    "<td style=\"vertical-align:miidle; text-align:center;\">Voltaje de funcionamiento</td>\n",
    "<td style=\"vertical-align:miidle; text-align:center;\"><b>8-11 volts</b></td>\n",
    "</tr>\n",
    "<tr>\n",
    "<td style=\"vertical-align:miidle; text-align:center;\">Energía</td>\n",
    "<td style=\"vertical-align:miidle; text-align:center;\"><b>> 100 W h/Kg</b></td>\n",
    "</tr>\n",
    "\n",
    "</table>"
   ]
  },
  {
   "cell_type": "code",
   "execution_count": 156,
   "metadata": {},
   "outputs": [],
   "source": [
    "from pint import UnitRegistry\n",
    "pintunits = UnitRegistry()\n",
    "import sympy as sp\n",
    "from sympy import *\n",
    "import sympy.physics.units as sp_u\n",
    "import scipy.constants as sp_c\n",
    "import math\n",
    "import IPython\n",
    "\n",
    "import SchemDraw as SchemDraw\n",
    "import SchemDraw.elements as SDE\n",
    "import numpy as np\n",
    "import ahkab\n",
    "from ahkab import circuit, printing, time_functions\n",
    "import ahkab\n",
    "import pylab as plt\n",
    "\n",
    "\n",
    "init_printing()"
   ]
  },
  {
   "cell_type": "markdown",
   "metadata": {},
   "source": [
    "## LEY DE OHM\n",
    "\n",
    "La Ley de Ohm es una relación entre el voltaje, la corriente y el valor de una resistencia:\n",
    "\n",
    "$$V = {I}*{R}$$\n",
    "\n",
    "Si introducimos la fórmula de potencia eléctrica, obtenemos otra forma de expresar la Ley de Ohm:\n",
    "\n",
    "$$P = {I}*{V}$$\n",
    "\n",
    "Si despejamos la corriente para el cálculo de intensidad, la fórmula quedaría de la siguiente manera:\n",
    "\n",
    "$$I = \\frac{P}{V}$$"
   ]
  },
  {
   "cell_type": "code",
   "execution_count": 157,
   "metadata": {},
   "outputs": [
    {
     "data": {
      "image/png": "[encoded data removed]",
      "text/latex": [
       "$$10.1 ampere$$"
      ],
      "text/plain": [
       "10.1⋅ampere"
      ]
     },
     "execution_count": 157,
     "metadata": {},
     "output_type": "execute_result"
    }
   ],
   "source": [
    "I, P, V = symbols('I P V', positive = True, real = True)\n",
    "\n",
    "# Para la potencia cogemos un valor mayor que 100 W/h.\n",
    "P = 101 * sp_u.W\n",
    "# Para el voltaje cogemos un valor entre 8 y 11 voltios.\n",
    "V = 10 * sp_u.V\n",
    "\n",
    "formula = Eq(I, (P/V))\n",
    "resultado = convert_to((solve(formula, I)[0]), sp_u.A)\n",
    "N(resultado)"
   ]
  },
  {
   "cell_type": "code",
   "execution_count": 158,
   "metadata": {},
   "outputs": [
    {
     "data": {
      "image/png": "[encoded data removed]",
      "text/latex": [
       "$$\\frac{0.99009900990099 volt}{ampere}$$"
      ],
      "text/plain": [
       "0.99009900990099⋅volt\n",
       "─────────────────────\n",
       "        ampere       "
      ]
     },
     "execution_count": 158,
     "metadata": {},
     "output_type": "execute_result"
    }
   ],
   "source": [
    "#Resolvemos el valos de la resistencia (R)\n",
    "\n",
    "N(V/resultado)"
   ]
  },
  {
   "cell_type": "markdown",
   "metadata": {},
   "source": [
    "Ahora que ya tenemos el valor de I, podemos dibujar un circuito sencillo:"
   ]
  },
  {
   "cell_type": "code",
   "execution_count": 159,
   "metadata": {},
   "outputs": [
    {
     "data": {
      "image/png": "[encoded data removed]",
      "text/plain": [
       "<matplotlib.figure.Figure at 0x7b910804a8>"
      ]
     },
     "metadata": {},
     "output_type": "display_data"
    }
   ],
   "source": [
    "d = SchemDraw.Drawing()\n",
    "d.add(SDE.SOURCE_V, label='V (10V)')\n",
    "d.add(SDE.DOT, label = 'a')\n",
    "d.add(SDE.RES, d = 'right', label = '$R$ (0.99 $\\Omega$)')\n",
    "d.add(SDE.LINE, d = 'down')\n",
    "d.add(SDE.LINE, d = 'left')\n",
    "d.add(SDE.DOT, label = '')\n",
    "d.add(SDE.GND)\n",
    "d.draw()"
   ]
  },
  {
   "cell_type": "markdown",
   "metadata": {},
   "source": [
    "### SIMULADOR DE LA LEY DE OHM"
   ]
  },
  {
   "cell_type": "code",
   "execution_count": 160,
   "metadata": {},
   "outputs": [
    {
     "data": {
      "text/html": [
       "<iframe src=\"https://phet.colorado.edu/sims/html/ohms-law/latest/ohms-law_en.html\" width=\"800\" height=\"600\" scrolling=\"no\" allowfullscreen></iframe>"
      ],
      "text/plain": [
       "<IPython.core.display.HTML object>"
      ]
     },
     "execution_count": 160,
     "metadata": {},
     "output_type": "execute_result"
    }
   ],
   "source": [
    "iframe = '<iframe src=\"https://phet.colorado.edu/sims/html/ohms-law/latest/ohms-law_en.html\" width=\"800\" height=\"600\" scrolling=\"no\" allowfullscreen></iframe>'\n",
    "IPython.display.HTML(iframe)"
   ]
  },
  {
   "cell_type": "markdown",
   "metadata": {},
   "source": [
    "## Segundo ejercicio\n",
    "<table>\n",
    "<tr>\n",
    "<td style=\"vertical-align:top; text-align:left;\">\n",
    "<p>Tres partículas cargadas con $3×10^{−9}$ amperios por segundo se encuentran en las puntas de un cuadrado de 2 pulgadas de lado.</p>\n",
    "<ul>\n",
    "<li>2 cargas en los vértices opuestos tienen signo «+».</li>\n",
    "<li>1 tiene carga de signo contrario.</li>\n",
    "</ul>\n",
    "<p>Calculamos la fuerza ejercida sobre una última partícula cargada de $3×10^{−9}$ situada en la punta del cuadrado que aún queda libre:</p>\n",
    "</td>\n",
    "<td>\n",
    "![](cargas.PNG)\n",
    "</td>\n",
    "</tr>\n",
    "</table>"
   ]
  },
  {
   "cell_type": "markdown",
   "metadata": {},
   "source": [
    "## LEY DE COULOMB\n",
    "\n",
    "La expresión matemática de la Ley de Coulomb:\n",
    "\n",
    "$$F = \\frac{k*q_1*q_2}{d^2}$$"
   ]
  },
  {
   "cell_type": "code",
   "execution_count": 161,
   "metadata": {},
   "outputs": [
    {
     "data": {
      "image/png": "[encoded data removed]",
      "text/latex": [
       "$$6.1521138485641 \\cdot 10^{-32}$$"
      ],
      "text/plain": [
       "6.15211384856410e-32"
      ]
     },
     "execution_count": 161,
     "metadata": {},
     "output_type": "execute_result"
    }
   ],
   "source": [
    "# Declaramos las variables de la ecuación\n",
    "k, q_1, q_2, d, F, c = symbols('k q_1 q_2 d F c', positive = True, real = True)\n",
    "\n",
    "e_coulomb1 = Eq(F, (k*q_1*q_2)/d**2)\n",
    "e_coulomb2 = Eq(F, (k*q_1*q_2)/(d**2)*sin(45))\n",
    "e_coulomb3 = Eq(F, (k*q_1*q_2)/d**2)\n",
    "e_coulomb4 = Eq(F, (k*q_1*q_2)/(d**2)*cos(45))\n",
    "\n",
    "constante = 9E9 \n",
    "carga1 = 3E9 \n",
    "carga2 = 3E9 \n",
    "l = 2 * 0.0254\n",
    "\n",
    "distancia = solve(Eq(d**2, (l**2) + (l**2)), d)[0]\n",
    "\n",
    "fuerza1 = solve (e_coulomb1.subs([(k, constante), (q_1, carga1), (q_2, carga2), (d, distancia)]), F)[0]\n",
    "fuerza2 = solve (e_coulomb2.subs([(k, constante), (q_1, carga1), (q_2, carga2), (d, distancia)]), F)[0]\n",
    "fuerza3 = solve (e_coulomb3.subs([(k, constante), (q_1, carga1), (q_2, carga2), (d, distancia)]), F)[0]\n",
    "fuerza4 = solve (e_coulomb4.subs([(k, constante), (q_1, carga1), (q_2, carga2), (d, distancia)]), F)[0]\n",
    "\n",
    "fuerza = tan(fuerza1+fuerza2)/(fuerza3+fuerza4)\n",
    "\n",
    "N(fuerza)\n"
   ]
  },
  {
   "cell_type": "code",
   "execution_count": null,
   "metadata": {
    "collapsed": true
   },
   "outputs": [],
   "source": []
  }
 ],
 "metadata": {
  "kernelspec": {
   "display_name": "Python 3",
   "language": "python",
   "name": "python3"
  },
  "language_info": {
   "codemirror_mode": {
    "name": "ipython",
    "version": 3
   },
   "file_extension": ".py",
   "mimetype": "text/x-python",
   "name": "python",
   "nbconvert_exporter": "python",
   "pygments_lexer": "ipython3",
   "version": "3.6.3"
  }
 },
 "nbformat": 4,
 "nbformat_minor": 2
}
